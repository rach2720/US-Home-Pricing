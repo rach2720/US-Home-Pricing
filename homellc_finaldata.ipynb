{
 "cells": [
  {
   "cell_type": "code",
   "execution_count": 22,
   "id": "5e937123",
   "metadata": {},
   "outputs": [],
   "source": [
    "import pandas as pd\n",
    "import numpy as np\n",
    "import requests\n",
    "\n",
    "# Define function to fetch data from FRED\n",
    "def fetch_fred_data(series_id, api_key):\n",
    "    url = f'https://api.stlouisfed.org/fred/series/observations?series_id={series_id}&api_key={api_key}&file_type=json'\n",
    "    response = requests.get(url)\n",
    "    data = response.json()\n",
    "    df = pd.DataFrame(data['observations'])\n",
    "    df['date'] = pd.to_datetime(df['date'])\n",
    "    df.set_index('date', inplace=True)\n",
    "    df[series_id] = df['value'].astype(float)\n",
    "    df = df[[series_id]]\n",
    "    return df\n",
    "\n",
    "# Fetch data for key factors\n",
    "api_key = 'fb39a3ff65e2faf0c7d113d4128e71dd'  \n"
   ]
  },
  {
   "cell_type": "code",
   "execution_count": 23,
   "id": "04c0e863",
   "metadata": {},
   "outputs": [],
   "source": [
    "interest_rates = fetch_fred_data('MORTGAGE30US', api_key)  # 30-Year Fixed Mortgage Rate\n",
    "cpi = fetch_fred_data('CPIAUCSL', api_key)  # Consumer Price Index for All Urban Consumers\n",
    "income = fetch_fred_data('MEHOINUSA646N', api_key)  # Median Household Income\n",
    "unemployment = fetch_fred_data('UNRATE', api_key)  # Unemployment Rate\n",
    "housing_starts = fetch_fred_data('HOUST', api_key)  # Housing Starts\n",
    "gdp = fetch_fred_data('A191RL1Q225SBEA', api_key)  # Real GDP\n",
    "population = fetch_fred_data('POPTHM', api_key)  # Population\n"
   ]
  },
  {
   "cell_type": "code",
   "execution_count": 109,
   "id": "db5117cb",
   "metadata": {},
   "outputs": [],
   "source": [
    "# Load the Case-Shiller data from a local file\n",
    "local_case_shiller_path = 'CSUSHPINSA.csv'  # Update this path to your local file\n",
    "case_shiller = pd.read_csv(local_case_shiller_path)\n",
    "\n",
    "# Process the Case-Shiller data\n",
    "case_shiller['date'] = case_shiller['DATE']\n",
    "case_shiller.set_index('date', inplace=True)\n",
    "case_shiller.rename(columns={'CSUSHPINSA': 'Case_Shiller_Index'}, inplace=True)\n",
    "case_shiller = case_shiller[['Case_Shiller_Index']]"
   ]
  },
  {
   "cell_type": "markdown",
   "id": "8235174c",
   "metadata": {},
   "source": [
    "reducing rows of all data frame"
   ]
  },
  {
   "cell_type": "code",
   "execution_count": 112,
   "id": "03130acd",
   "metadata": {},
   "outputs": [],
   "source": [
    "interest_rates2= interest_rates.iloc[1501:]\n"
   ]
  },
  {
   "cell_type": "code",
   "execution_count": 113,
   "id": "7e658765",
   "metadata": {},
   "outputs": [],
   "source": [
    "cpi2=cpi.iloc[636:]\n"
   ]
  },
  {
   "cell_type": "code",
   "execution_count": 114,
   "id": "c8fa0e89",
   "metadata": {
    "scrolled": true
   },
   "outputs": [],
   "source": [
    "income2 = income.iloc[16:]\n"
   ]
  },
  {
   "cell_type": "code",
   "execution_count": 115,
   "id": "2e44625c",
   "metadata": {},
   "outputs": [],
   "source": [
    "unemployment2 = unemployment.iloc[636:]\n"
   ]
  },
  {
   "cell_type": "code",
   "execution_count": 116,
   "id": "a039e4b9",
   "metadata": {},
   "outputs": [],
   "source": [
    "housing_starts2= housing_starts.iloc[492:]\n"
   ]
  },
  {
   "cell_type": "code",
   "execution_count": 117,
   "id": "01be4429",
   "metadata": {},
   "outputs": [],
   "source": [
    "gdp2 = gdp.iloc[211:]\n"
   ]
  },
  {
   "cell_type": "code",
   "execution_count": 119,
   "id": "ed7918dd",
   "metadata": {},
   "outputs": [],
   "source": [
    "population2 = population.iloc[492:]\n",
    "\n"
   ]
  },
  {
   "cell_type": "code",
   "execution_count": 131,
   "id": "5ee7f180",
   "metadata": {
    "scrolled": true
   },
   "outputs": [],
   "source": [
    "case_shiller2 = case_shiller.iloc[156:]\n"
   ]
  },
  {
   "cell_type": "code",
   "execution_count": 130,
   "id": "6dbca44f",
   "metadata": {
    "scrolled": true
   },
   "outputs": [
    {
     "name": "stdout",
     "output_type": "stream",
     "text": [
      "            CPIAUCSL  MEHOINUSA646N  MORTGAGE30US  UNRATE   HOUST  \\\n",
      "date                                                                \n",
      "2000-01-01     169.3        41990.0           NaN     NaN  1636.0   \n",
      "2000-02-01     170.0            NaN           NaN     NaN  1737.0   \n",
      "2000-03-01     171.0            NaN           NaN     NaN  1604.0   \n",
      "2000-04-01     170.9            NaN           NaN     NaN  1626.0   \n",
      "2000-05-01     171.2            NaN           NaN     NaN  1575.0   \n",
      "\n",
      "            A191RL1Q225SBEA    POPTHM  \n",
      "date                                   \n",
      "2000-01-01              1.5  281083.0  \n",
      "2000-02-01              NaN  281299.0  \n",
      "2000-03-01              NaN  281531.0  \n",
      "2000-04-01              7.5  281763.0  \n",
      "2000-05-01              NaN  281996.0  \n"
     ]
    }
   ],
   "source": [
    "\n",
    "\n",
    "# Load all dataset\n",
    "df1 = pd.DataFrame(cpi2)\n",
    "\n",
    "df2 = pd.DataFrame(income2)\n",
    "\n",
    "df3=pd.DataFrame(interest_rates2)\n",
    "\n",
    "df4=pd.DataFrame(unemployment2)\n",
    "\n",
    "df5=pd.DataFrame(housing_starts2)\n",
    "\n",
    "df6=pd.DataFrame(gdp2)\n",
    "\n",
    "df7=pd.DataFrame(population2)\n",
    "\n",
    "\n",
    "\n",
    "\n",
    "# Merge dataframes on a common column\n",
    "merged_df = pd.merge(df1, df2, on='date' , how= 'outer')\n",
    "\n",
    "merged_df = pd.merge(merged_df, df3, on='date' , how= 'outer')\n",
    "merged_df = pd.merge(merged_df, df4, on='date',how= 'outer')\n",
    "merged_df = pd.merge(merged_df, df5, on='date',how= 'outer')\n",
    "merged_df = pd.merge(merged_df, df6, on='date',how= 'outer')\n",
    "merged_df = pd.merge(merged_df, df7, on='date',how= 'outer')\n",
    "\n",
    "\n",
    "# Inspect the merged dataframe\n",
    "print(merged_df.head())\n"
   ]
  },
  {
   "cell_type": "code",
   "execution_count": 125,
   "id": "2d17f7d8",
   "metadata": {
    "scrolled": true
   },
   "outputs": [],
   "source": [
    "d_f2=merged_df\n",
    "#merging case shiller with my df\n",
    "csi=pd.DataFrame(case_shiller2)\n",
    "final_data=pd.concat([csi,d_f2] , axis=1)"
   ]
  },
  {
   "cell_type": "code",
   "execution_count": 126,
   "id": "e56315b6",
   "metadata": {},
   "outputs": [
    {
     "name": "stdout",
     "output_type": "stream",
     "text": [
      "            Case_Shiller_Index  CPIAUCSL  MEHOINUSA646N  MORTGAGE30US  UNRATE  \\\n",
      "date                                                                            \n",
      "2000-01-01             100.000       NaN            NaN           NaN     NaN   \n",
      "2000-02-01             100.571       NaN            NaN           NaN     NaN   \n",
      "2000-03-01             101.466       NaN            NaN           NaN     NaN   \n",
      "2000-04-01             102.540       NaN            NaN           NaN     NaN   \n",
      "2000-05-01             103.702       NaN            NaN           NaN     NaN   \n",
      "\n",
      "            HOUST  A191RL1Q225SBEA  POPTHM  \n",
      "date                                        \n",
      "2000-01-01    NaN              NaN     NaN  \n",
      "2000-02-01    NaN              NaN     NaN  \n",
      "2000-03-01    NaN              NaN     NaN  \n",
      "2000-04-01    NaN              NaN     NaN  \n",
      "2000-05-01    NaN              NaN     NaN  \n"
     ]
    }
   ],
   "source": [
    "print(final_data.head())"
   ]
  },
  {
   "cell_type": "code",
   "execution_count": 2,
   "id": "76a27270",
   "metadata": {
    "scrolled": true
   },
   "outputs": [
    {
     "ename": "NameError",
     "evalue": "name 'final_data' is not defined",
     "output_type": "error",
     "traceback": [
      "\u001b[0;31m---------------------------------------------------------------------------\u001b[0m",
      "\u001b[0;31mNameError\u001b[0m                                 Traceback (most recent call last)",
      "Cell \u001b[0;32mIn[2], line 1\u001b[0m\n\u001b[0;32m----> 1\u001b[0m final_data\u001b[38;5;241m.\u001b[39mto_csv(\u001b[38;5;124m'\u001b[39m\u001b[38;5;124mfinaldata.csv\u001b[39m\u001b[38;5;124m'\u001b[39m)\n",
      "\u001b[0;31mNameError\u001b[0m: name 'final_data' is not defined"
     ]
    }
   ],
   "source": [
    "final_data.to_csv('finaldata.csv') "
   ]
  },
  {
   "cell_type": "code",
   "execution_count": null,
   "id": "b2b1e35c",
   "metadata": {},
   "outputs": [],
   "source": []
  }
 ],
 "metadata": {
  "kernelspec": {
   "display_name": "Python 3 (ipykernel)",
   "language": "python",
   "name": "python3"
  },
  "language_info": {
   "codemirror_mode": {
    "name": "ipython",
    "version": 3
   },
   "file_extension": ".py",
   "mimetype": "text/x-python",
   "name": "python",
   "nbconvert_exporter": "python",
   "pygments_lexer": "ipython3",
   "version": "3.11.4"
  }
 },
 "nbformat": 4,
 "nbformat_minor": 5
}
